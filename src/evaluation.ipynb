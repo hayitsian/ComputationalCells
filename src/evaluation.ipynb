{
 "cells": [
  {
   "cell_type": "code",
   "execution_count": null,
   "metadata": {},
   "outputs": [],
   "source": [
    "import plotly.graph_objs as go\n",
    "import plotly.figure_factory as ff\n",
    "\n"
   ]
  },
  {
   "cell_type": "code",
   "execution_count": null,
   "metadata": {},
   "outputs": [],
   "source": [
    "# TODO:\n",
    "# - add distribution plots for the most and least variable genes\n",
    "# - plot the most incorrect and most correct genes by model"
   ]
  },
  {
   "cell_type": "code",
   "execution_count": null,
   "metadata": {},
   "outputs": [],
   "source": [
    "\n",
    "N = random.randrange(de_train_Y.shape[1])\n",
    "\n",
    "print(':' *40)\n",
    "print('Column number :', N)\n",
    "print('Column name :', list(de_train_Y.columns)[N])\n",
    "print(':' *40)\n",
    "\n",
    "hist_data = [_LGBMprediction.iloc[:, N], \n",
    "             _Torch_prediction.iloc[:, N], \n",
    "             _SVR_MO_prediction.iloc[:, N], \n",
    "             _KNN_MO_prediction.iloc[:, N], \n",
    "             prediction.iloc[:, N], \n",
    "             de_train_Y.iloc[:, N]]\n",
    "group_labels = ['LGBM', \n",
    "            'PyTorch', \n",
    "            'SVR (RBF)', \n",
    "            'KNN', \n",
    "            'Ensembled', \n",
    "            'Ground Truth']\n",
    "\n",
    "fig = ff.create_distplot(hist_data, group_labels, bin_size=.2, show_hist=False, show_rug=False)\n",
    "fig.write_image(\"EnsembledPrediction.jpg\")\n",
    "fig.show(renderer='notebook_connected')"
   ]
  }
 ],
 "metadata": {
  "kernelspec": {
   "display_name": "CPA",
   "language": "python",
   "name": "python3"
  },
  "language_info": {
   "name": "python",
   "version": "3.9.18"
  }
 },
 "nbformat": 4,
 "nbformat_minor": 2
}
